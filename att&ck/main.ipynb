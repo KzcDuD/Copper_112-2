{
 "cells": [
  {
   "cell_type": "code",
   "execution_count": 4,
   "metadata": {},
   "outputs": [],
   "source": [
    "import os\n",
    "from langchain_community.chat_models import ChatOpenAI\n",
    "from dotenv import load_dotenv\n",
    "from langchain.schema import  SystemMessage,HumanMessage,AIMessage \n",
    "from langchain_community.document_loaders import JSONLoader\n",
    "from langchain_community.vectorstores.faiss import FAISS\n",
    "from langchain_community.embeddings import OpenAIEmbeddings\n",
    "from langchain.text_splitter import RecursiveCharacterTextSplitter\n",
    "\n",
    "# Load API key from .env file\n",
    "load_dotenv()\n",
    "os.environ[\"OPENAI_API_KEY\"] = os.getenv(\"OPENAI_API_KEY\") or \"YOUR_API_KEY\"\n",
    "\n",
    "# load json files\n",
    "def load_jfile(file:list):\n",
    "    folder_path = './data/'\n",
    "    loader = JSONLoader(\n",
    "        file_path=folder_path+file,\n",
    "        jq_schema='.[]',\n",
    "        content_key='html',\n",
    "    )\n",
    "    text_spilter = RecursiveCharacterTextSplitter(chunk_size=1000 , chunk_overlap=100)\n",
    "    docs = text_spilter.split_documents(loader.load())\n",
    "    return docs\n",
    "\n",
    "class Chat_with_ai():\n",
    "    def __init__(self,data=None,k=3):\n",
    "        self.data = data\n",
    "        self.query = ''\n",
    "        self.k = k\n",
    "        self.messages = [\n",
    "            SystemMessage(content=\"You are a helpful assistant for cyber security.\"),\n",
    "            SystemMessage(content=\"The transcript is the ATT&CK matrix. I need the solution to defense attcks and the reference with the transcript.\"),\n",
    "            SystemMessage(content=\"**Reply in zh-tw**\"),\n",
    "        ]\n",
    "        # data ==none continue to chat\n",
    "        self.db = 'None'\n",
    "        self.transcript = 'None'\n",
    "        if data != None:\n",
    "            self.db = self.data_to_db(data)\n",
    "            self.transcript = self.get()\n",
    "    \n",
    "    def data_to_db(self,data)->FAISS:\n",
    "        embedding = OpenAIEmbeddings()\n",
    "        db = FAISS.from_documents(data,embedding)\n",
    "        return db\n",
    "    \n",
    "    def get(self):\n",
    "        docs =self.db.similarity_search(query = self.query, k = self.k)\n",
    "        # print(docs)\n",
    "        docs_page_content = ' '.join([str(doc) for doc in docs])\n",
    "        return docs_page_content\n",
    "    \n",
    "    def chat(self):\n",
    "        if self.query =='':\n",
    "            return '請輸入查詢內容'\n",
    "        \n",
    "        model = ChatOpenAI(\n",
    "            openai_api_key=os.environ[\"OPENAI_API_KEY\"],\n",
    "            model='gpt-3.5-turbo'\n",
    "        )\n",
    "        self.messages.append(SystemMessage(content=self.transcript))\n",
    "        self.messages.append(HumanMessage(content=self.query))\n",
    "        response =model.invoke(self.messages).content\n",
    "        self.messages.append(AIMessage(content=response))\n",
    "        return response\n"
   ]
  },
  {
   "cell_type": "code",
   "execution_count": 5,
   "metadata": {},
   "outputs": [
    {
     "name": "stdout",
     "output_type": "stream",
     "text": [
      "['Reconnaissance在ATT&CK框架中代表什麼？', '列舉幾種Reconnaissance的常見技術或方法。', 'Resource Development在ATT&CK框架中是指什麼？', '舉例說明資源開發可以如何被攻擊者利用來進一步入侵系統。', 'Initial Access在ATT&CK框架中的角色是什麼？', '舉例說明一個Initial Access的攻擊技術。', '在防禦中，如何可以減輕或阻止Reconnaissance階段的攻擊？', '當懷疑系統可能已經受到Reconnaissance攻擊時，應該採取哪些措施？', 'Resource Development階段可能會使用哪些類型的資源？', '列舉一些Initial Access的常見入侵點或攻擊向量。']\n"
     ]
    }
   ],
   "source": [
    "q =\"\"\"\n",
    "Reconnaissance在ATT&CK框架中代表什麼？\n",
    "列舉幾種Reconnaissance的常見技術或方法。\n",
    "Resource Development在ATT&CK框架中是指什麼？\n",
    "舉例說明資源開發可以如何被攻擊者利用來進一步入侵系統。\n",
    "Initial Access在ATT&CK框架中的角色是什麼？\n",
    "舉例說明一個Initial Access的攻擊技術。\n",
    "在防禦中，如何可以減輕或阻止Reconnaissance階段的攻擊？\n",
    "當懷疑系統可能已經受到Reconnaissance攻擊時，應該採取哪些措施？\n",
    "Resource Development階段可能會使用哪些類型的資源？\n",
    "列舉一些Initial Access的常見入侵點或攻擊向量。\n",
    "\"\"\"\n",
    "result = []\n",
    "for i in q.split('\\n'):\n",
    "    if i:\n",
    "        result.append(i)\n",
    "\n",
    "print(result)"
   ]
  },
  {
   "cell_type": "code",
   "execution_count": 11,
   "metadata": {},
   "outputs": [
    {
     "name": "stdout",
     "output_type": "stream",
     "text": [
      "在ATT&CK框架中，Reconnaissance代表對目標進行情報收集的階段，包括搜尋目標的資訊、網路掃描、攻擊表面分析等活動。攻擊者通常在入侵前會進行Reconnaissance階段，以更好地了解目標並規劃後續的攻擊行動。\n"
     ]
    }
   ],
   "source": [
    "file = 'Reconnaissance.json'\n",
    "j_data = load_jfile(file)\n",
    "# pprint(j_data)\n",
    "\n",
    "query = ['Reconnaissance在ATT&CK框架中代表什麼？', '列舉幾種Reconnaissance的常見技術或方法。', 'Resource Development在ATT&CK框架中是指什麼？', '舉例說明資源開發可以如何被攻擊者利用來進一步入侵系統。', 'Initial Access在ATT&CK框架中的角色是什麼？', '舉例說明一個Initial Access的攻擊技術。', '在防禦中，如何可以減輕或阻止Reconnaissance階段的攻擊？', '當懷疑系統可能已經受到Reconnaissance攻擊時，應該採取哪些措施？', 'Resource Development階段可能會使用哪些類型的資源？', '列舉一些Initial Access的常見入侵點或攻擊向量。']\n",
    "\n",
    "model = Chat_with_ai(j_data)\n",
    "model.query = query[0]\n",
    "print(model.chat())"
   ]
  },
  {
   "cell_type": "code",
   "execution_count": 19,
   "metadata": {},
   "outputs": [
    {
     "name": "stdout",
     "output_type": "stream",
     "text": [
      "Reconnaissance的常見技術或方法包括：\n",
      "\n",
      "1. 網絡掃描：掃描目標網絡以識別主機、端口和服務。\n",
      "2. 社交工程：通過偽造身份或利用社交媒體等方式，獲取目標組織的相關信息。\n",
      "3. 電子郵件偵察：通過發送釣魚郵件或分析郵件頭部信息等方式，獲取目標組織的電子郵件架構和人員信息。\n",
      "4. 開源情報收集：通過監視公開可用的信息來獲取對目標組織有用的情報。\n",
      "5. 網站探測：通過訪問目標組織的網站或子域名，獲取有關組織結構和技術堆棧的信息。\n",
      "\n",
      "這些技術和方法幫助駭客在攻擊前階段收集關鍵信息，以便制定更有針對性的攻擊策略。\n"
     ]
    }
   ],
   "source": [
    "model.query = query[1]\n",
    "print(model.chat())"
   ]
  },
  {
   "cell_type": "code",
   "execution_count": 20,
   "metadata": {},
   "outputs": [
    {
     "name": "stdout",
     "output_type": "stream",
     "text": [
      "在ATT&CK框架中，Resource Development指的是駭客為進一步攻擊目標組織而收集、建立或獲取攻擊所需的資源、工具或設施的活動。這些資源可能包括惡意軟件、漏洞利用工具、社交工程技巧等，用於實施後續的攻擊階段，如交付、執行和持久化等。Resource Development旨在準備攻擊者在攻擊過程中所需的各種資源，以提高攻擊成功的機會。\n"
     ]
    }
   ],
   "source": [
    "model.query = query[2]\n",
    "print(model.chat())"
   ]
  },
  {
   "cell_type": "code",
   "execution_count": null,
   "metadata": {},
   "outputs": [],
   "source": [
    "\"\"\"\n",
    "Reconnaissance在攻擊生命週期中扮演什麼角色？\n",
    "請解釋Reconnaissance的目的以及為什麼攻擊者會進行這個階段。\n",
    "Reconnaissance階段包括哪些技術或方法？\n",
    "舉例說明一個用於Reconnaissance的主動掃描技術。\n",
    "攻擊者在Reconnaissance階段通常會收集哪些類型的資訊？\n",
    "Reconnaissance階段的資訊可以用於什麼其他階段的攻擊？\n",
    "在防禦方面，有哪些方法可以檢測或防止Reconnaissance攻擊？\n",
    "Reconnaissance階段的目標是什麼？攻擊者通常希望從中獲得什麼樣的資訊？\n",
    "舉例說明一個用於搜索封閉來源的Reconnaissance技術。\n",
    "Reconnaissance階段的主要技術如何幫助攻擊者規劃未來的操作？\n",
    "\"\"\""
   ]
  },
  {
   "cell_type": "code",
   "execution_count": 13,
   "metadata": {},
   "outputs": [
    {
     "name": "stdout",
     "output_type": "stream",
     "text": [
      "根據transcript中的參考資料，以下是在防禦中減輕或阻止Reconnaissance階段攻擊的建議：\n",
      "\n",
      "1. 監控網路流量和系統日誌，以及異常行為或可能的Reconnaissance活動。\n",
      "2. 實施強化的身分驗證機制，防止未經授權的訪問。\n",
      "3. 定期更新系統和應用程式，以修補潛在的漏洞，降低攻擊風險。\n",
      "4. 教育員工辨識和報告可疑的電子郵件、網站或其他Reconnaissance活動。\n",
      "\n",
      "這些措施有助於提高組織對於攻擊的警覺性，並降低受到Reconnaissance階段攻擊的風險。\n",
      "\n",
      "參考資料：\n",
      "- Babon, P. (2020, September 3). Tricky 'Forms' of Phishing. Retrieved October 20, 2020.\n",
      "- Kan, M. (2019, October 24). Hackers Try to Phish United Nations Staffers With Fake Login Pages. Retrieved October 20, 2020.\n",
      "- Nick Simonian. (2023, May 22). Don't @ Me: URL Obfuscation Through Schema Abuse. Retrieved August 4, 2023.\n",
      "- NIST Information Technology Laboratory. (n.d.). web bug. Retrieved March 22, 2023.\n",
      "- ZScaler. (2020, February 11). Fake Sites Stealing Steam Credentials. Retrieved March 8, 2023.\n",
      "- mr.d0x. (2022, March 15). Browser In The Browser (BITB) Attack. Retrieved March 8, 2023.\n",
      "- Proofpoint. (n.d.). The Human Factor 2023: Analyzing the cyber attack chain. Retrieved July 20, 2023.\n",
      "- Dr. Nestori Syynimaa. (2018, October 25). AADInternals. Retrieved February 18, 2022.\n",
      "- Huntley, S. (2022, March 7). An update on the threat landscape. Retrieved March 16, 2022.\n"
     ]
    }
   ],
   "source": [
    "model.query = '在防禦中，如何減輕或阻止Reconnaissance階段的攻擊？(附上transcript中的資料)'\n",
    "print(model.chat())"
   ]
  }
 ],
 "metadata": {
  "kernelspec": {
   "display_name": "Python 3",
   "language": "python",
   "name": "python3"
  },
  "language_info": {
   "codemirror_mode": {
    "name": "ipython",
    "version": 3
   },
   "file_extension": ".py",
   "mimetype": "text/x-python",
   "name": "python",
   "nbconvert_exporter": "python",
   "pygments_lexer": "ipython3",
   "version": "3.9.6"
  }
 },
 "nbformat": 4,
 "nbformat_minor": 2
}
